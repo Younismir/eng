{
 "cells": [
  {
   "cell_type": "code",
   "execution_count": 1,
   "metadata": {
    "_cell_guid": "b1076dfc-b9ad-4769-8c92-a6c4dae69d19",
    "_uuid": "8f2839f25d086af736a60e9eeb907d3b93b6e0e5",
    "execution": {
     "iopub.execute_input": "2023-02-23T17:55:08.171311Z",
     "iopub.status.busy": "2023-02-23T17:55:08.170988Z",
     "iopub.status.idle": "2023-02-23T17:55:10.170645Z",
     "shell.execute_reply": "2023-02-23T17:55:10.169127Z",
     "shell.execute_reply.started": "2023-02-23T17:55:08.171254Z"
    }
   },
   "outputs": [
    {
     "name": "stderr",
     "output_type": "stream",
     "text": [
      "Using TensorFlow backend.\n"
     ]
    },
    {
     "name": "stdout",
     "output_type": "stream",
     "text": [
      "['new-dataset-tanzil-with-748k', 'eng-urdu-model', 'finaldataset', 'merged', 'general-eng-ur']\n"
     ]
    }
   ],
   "source": [
    "# English-Urdu Machine Translation \n",
    "\n",
    "import numpy as np # linear algebra\n",
    "import pandas as pd # data processing, CSV file I/O (e.g. pd.read_csv)\n",
    "\n",
    "# Input data files are available in the \"../input/\" directory.\n",
    "# For example, running this (by clicking run or pressing Shift+Enter) will list the files in the input directory\n",
    "\n",
    "import os\n",
    "import string\n",
    "from string import digits\n",
    "import matplotlib.pyplot as plt\n",
    "%matplotlib inline\n",
    "import re\n",
    "\n",
    "import seaborn as sns\n",
    "from sklearn.utils import shuffle\n",
    "from sklearn.model_selection import train_test_split\n",
    "from keras.layers import Input, LSTM, Embedding, Dense\n",
    "from keras.models import Model\n",
    "\n",
    "print(os.listdir(\"../input\"))\n",
    "\n",
    "# pd.set_option('display.max_rows', 500)\n",
    "# pd.set_option('display.max_columns', 500)\n",
    "# pd.set_option('display.width', 1000)\n",
    "\n",
    "\n"
   ]
  },
  {
   "cell_type": "code",
   "execution_count": 2,
   "metadata": {
    "_cell_guid": "79c7e3d0-c299-4dcb-8224-4455121ee9b0",
    "_uuid": "d629ff2d2480ee46fbb7e2d37f6b5fab8052498a",
    "execution": {
     "iopub.execute_input": "2023-02-23T17:55:10.172309Z",
     "iopub.status.busy": "2023-02-23T17:55:10.172027Z",
     "iopub.status.idle": "2023-02-23T17:55:16.842025Z",
     "shell.execute_reply": "2023-02-23T17:55:16.841181Z",
     "shell.execute_reply.started": "2023-02-23T17:55:10.172257Z"
    }
   },
   "outputs": [],
   "source": [
    "lines=pd.read_csv(\"/kaggle/input/new-dataset-tanzil-with-748k/english_urdu_748k.csv\")"
   ]
  },
  {
   "cell_type": "code",
   "execution_count": 3,
   "metadata": {
    "execution": {
     "iopub.execute_input": "2023-02-23T17:55:16.846359Z",
     "iopub.status.busy": "2023-02-23T17:55:16.845929Z",
     "iopub.status.idle": "2023-02-23T17:55:16.879034Z",
     "shell.execute_reply": "2023-02-23T17:55:16.876868Z",
     "shell.execute_reply.started": "2023-02-23T17:55:16.846173Z"
    }
   },
   "outputs": [
    {
     "data": {
      "text/html": [
       "<div>\n",
       "<style scoped>\n",
       "    .dataframe tbody tr th:only-of-type {\n",
       "        vertical-align: middle;\n",
       "    }\n",
       "\n",
       "    .dataframe tbody tr th {\n",
       "        vertical-align: top;\n",
       "    }\n",
       "\n",
       "    .dataframe thead th {\n",
       "        text-align: right;\n",
       "    }\n",
       "</style>\n",
       "<table border=\"1\" class=\"dataframe\">\n",
       "  <thead>\n",
       "    <tr style=\"text-align: right;\">\n",
       "      <th></th>\n",
       "      <th>eng</th>\n",
       "      <th>urdu</th>\n",
       "    </tr>\n",
       "  </thead>\n",
       "  <tbody>\n",
       "    <tr>\n",
       "      <th>0</th>\n",
       "      <td>In the name of Allah, most benevolent, ever-me...</td>\n",
       "      <td>شروع الله کا نام لے کر جو بڑا مہربان نہایت رحم...</td>\n",
       "    </tr>\n",
       "    <tr>\n",
       "      <th>1</th>\n",
       "      <td>ALL PRAISE BE to Allah, Lord of all the worlds,\\n</td>\n",
       "      <td>سب تعریفیں الله کے لیے ہیں جو سب جہانوں کا پال...</td>\n",
       "    </tr>\n",
       "    <tr>\n",
       "      <th>2</th>\n",
       "      <td>Most beneficent, ever-merciful,\\n</td>\n",
       "      <td>بڑا مہربان نہایت رحم والا\\n</td>\n",
       "    </tr>\n",
       "    <tr>\n",
       "      <th>3</th>\n",
       "      <td>King of the Day of Judgement.\\n</td>\n",
       "      <td>جزا کے دن کا مالک\\n</td>\n",
       "    </tr>\n",
       "    <tr>\n",
       "      <th>4</th>\n",
       "      <td>You alone we worship, and to You alone turn fo...</td>\n",
       "      <td>ہم تیری ہی عبادت کرتے ہیں اور تجھ ہی سے مدد ما...</td>\n",
       "    </tr>\n",
       "    <tr>\n",
       "      <th>5</th>\n",
       "      <td>Guide us (O Lord) to the path that is straight,\\n</td>\n",
       "      <td>ہمیں سیدھا راستہ دکھا\\n</td>\n",
       "    </tr>\n",
       "    <tr>\n",
       "      <th>6</th>\n",
       "      <td>The path of those You have blessed, Not of tho...</td>\n",
       "      <td>ان لوگوں کا راستہ جن پر تو نے انعام کیا نہ جن ...</td>\n",
       "    </tr>\n",
       "    <tr>\n",
       "      <th>7</th>\n",
       "      <td>ALIF LAM MIM.\\n</td>\n",
       "      <td>المۤ\\n</td>\n",
       "    </tr>\n",
       "    <tr>\n",
       "      <th>8</th>\n",
       "      <td>This is The Book free of doubt and involution,...</td>\n",
       "      <td>یہ وہ کتاب ہے جس میں کوئی بھی شک نہیں پرہیز گا...</td>\n",
       "    </tr>\n",
       "    <tr>\n",
       "      <th>9</th>\n",
       "      <td>Who believe in the Unknown and fulfil their de...</td>\n",
       "      <td>جو بن دیکھے ایمان لاتے ہیں اور نماز قائم کرتے ...</td>\n",
       "    </tr>\n",
       "    <tr>\n",
       "      <th>10</th>\n",
       "      <td>Who believe in what has been revealed to you a...</td>\n",
       "      <td>اور جو ایمان لاتے ہیں اس پر جو اتارا گیا آپ پر...</td>\n",
       "    </tr>\n",
       "    <tr>\n",
       "      <th>11</th>\n",
       "      <td>They have found the guidance of their Lord and...</td>\n",
       "      <td>وہی لوگ اپنے رب کے راستہ پر ہیں اور وہی نجات پ...</td>\n",
       "    </tr>\n",
       "    <tr>\n",
       "      <th>12</th>\n",
       "      <td>As for those who deny, it is all the same if y...</td>\n",
       "      <td>بے شک جو لوگ انکار کر چکے ہیں برابر ہے انہیں ت...</td>\n",
       "    </tr>\n",
       "    <tr>\n",
       "      <th>13</th>\n",
       "      <td>God has sealed their hearts and ears, and veil...</td>\n",
       "      <td>الله نے ان کے دلوں اورکانوں پرمہر لگا دی ہے او...</td>\n",
       "    </tr>\n",
       "    <tr>\n",
       "      <th>14</th>\n",
       "      <td>And there are some who, though they say: \"We b...</td>\n",
       "      <td>اور کچھ ایسے بھی لوگ ہیں جو کہتے ہیں کہ ہم الل...</td>\n",
       "    </tr>\n",
       "    <tr>\n",
       "      <th>15</th>\n",
       "      <td>They (try to) deceive God and those who believ...</td>\n",
       "      <td>الله اور ایمان داروں کو دھوکا دیتے ہیں حالانکہ...</td>\n",
       "    </tr>\n",
       "    <tr>\n",
       "      <th>16</th>\n",
       "      <td>Sick are their hearts, and God adds to their m...</td>\n",
       "      <td>انکے دلوں میں بیماری ہے پھر الله نے ان کی بیما...</td>\n",
       "    </tr>\n",
       "    <tr>\n",
       "      <th>17</th>\n",
       "      <td>When asked to desist from spreading corruption...</td>\n",
       "      <td>اور جب انہیں کہا جاتا ہے کہ ملک میں فساد نہ ڈا...</td>\n",
       "    </tr>\n",
       "    <tr>\n",
       "      <th>18</th>\n",
       "      <td>Yet they are surely mischief-mongers, even tho...</td>\n",
       "      <td>خبردار بے شک وہی لوگ فسادی ہیں لیکن نہیں سمجھتے\\n</td>\n",
       "    </tr>\n",
       "    <tr>\n",
       "      <th>19</th>\n",
       "      <td>When asked to believe as others do, they say: ...</td>\n",
       "      <td>اور جب انہیں کہا جاتا ہے ایمان لاؤ جس طرح اور ...</td>\n",
       "    </tr>\n",
       "  </tbody>\n",
       "</table>\n",
       "</div>"
      ],
      "text/plain": [
       "                                                  eng                                               urdu\n",
       "0   In the name of Allah, most benevolent, ever-me...  شروع الله کا نام لے کر جو بڑا مہربان نہایت رحم...\n",
       "1   ALL PRAISE BE to Allah, Lord of all the worlds,\\n  سب تعریفیں الله کے لیے ہیں جو سب جہانوں کا پال...\n",
       "2                   Most beneficent, ever-merciful,\\n                        بڑا مہربان نہایت رحم والا\\n\n",
       "3                     King of the Day of Judgement.\\n                                جزا کے دن کا مالک\\n\n",
       "4   You alone we worship, and to You alone turn fo...  ہم تیری ہی عبادت کرتے ہیں اور تجھ ہی سے مدد ما...\n",
       "5   Guide us (O Lord) to the path that is straight,\\n                            ہمیں سیدھا راستہ دکھا\\n\n",
       "6   The path of those You have blessed, Not of tho...  ان لوگوں کا راستہ جن پر تو نے انعام کیا نہ جن ...\n",
       "7                                     ALIF LAM MIM.\\n                                             المۤ\\n\n",
       "8   This is The Book free of doubt and involution,...  یہ وہ کتاب ہے جس میں کوئی بھی شک نہیں پرہیز گا...\n",
       "9   Who believe in the Unknown and fulfil their de...  جو بن دیکھے ایمان لاتے ہیں اور نماز قائم کرتے ...\n",
       "10  Who believe in what has been revealed to you a...  اور جو ایمان لاتے ہیں اس پر جو اتارا گیا آپ پر...\n",
       "11  They have found the guidance of their Lord and...  وہی لوگ اپنے رب کے راستہ پر ہیں اور وہی نجات پ...\n",
       "12  As for those who deny, it is all the same if y...  بے شک جو لوگ انکار کر چکے ہیں برابر ہے انہیں ت...\n",
       "13  God has sealed their hearts and ears, and veil...  الله نے ان کے دلوں اورکانوں پرمہر لگا دی ہے او...\n",
       "14  And there are some who, though they say: \"We b...  اور کچھ ایسے بھی لوگ ہیں جو کہتے ہیں کہ ہم الل...\n",
       "15  They (try to) deceive God and those who believ...  الله اور ایمان داروں کو دھوکا دیتے ہیں حالانکہ...\n",
       "16  Sick are their hearts, and God adds to their m...  انکے دلوں میں بیماری ہے پھر الله نے ان کی بیما...\n",
       "17  When asked to desist from spreading corruption...  اور جب انہیں کہا جاتا ہے کہ ملک میں فساد نہ ڈا...\n",
       "18  Yet they are surely mischief-mongers, even tho...  خبردار بے شک وہی لوگ فسادی ہیں لیکن نہیں سمجھتے\\n\n",
       "19  When asked to believe as others do, they say: ...  اور جب انہیں کہا جاتا ہے ایمان لاؤ جس طرح اور ..."
      ]
     },
     "execution_count": 3,
     "metadata": {},
     "output_type": "execute_result"
    }
   ],
   "source": [
    "lines.head(20)"
   ]
  },
  {
   "cell_type": "code",
   "execution_count": 4,
   "metadata": {
    "execution": {
     "iopub.execute_input": "2023-02-23T17:55:16.885254Z",
     "iopub.status.busy": "2023-02-23T17:55:16.883159Z",
     "iopub.status.idle": "2023-02-23T17:55:16.920901Z",
     "shell.execute_reply": "2023-02-23T17:55:16.920137Z",
     "shell.execute_reply.started": "2023-02-23T17:55:16.885172Z"
    }
   },
   "outputs": [],
   "source": [
    "lines.rename(columns={'eng': 'english_sentence', 'urdu': 'urdu_sentence'}, inplace=True)"
   ]
  },
  {
   "cell_type": "code",
   "execution_count": 5,
   "metadata": {
    "execution": {
     "iopub.execute_input": "2023-02-23T17:55:16.927383Z",
     "iopub.status.busy": "2023-02-23T17:55:16.925214Z",
     "iopub.status.idle": "2023-02-23T17:55:17.113597Z",
     "shell.execute_reply": "2023-02-23T17:55:17.112893Z",
     "shell.execute_reply.started": "2023-02-23T17:55:16.927203Z"
    }
   },
   "outputs": [
    {
     "data": {
      "text/plain": [
       "english_sentence    0\n",
       "urdu_sentence       0\n",
       "dtype: int64"
      ]
     },
     "execution_count": 5,
     "metadata": {},
     "output_type": "execute_result"
    }
   ],
   "source": [
    "pd.isnull(lines).sum()"
   ]
  },
  {
   "cell_type": "code",
   "execution_count": 6,
   "metadata": {
    "execution": {
     "iopub.execute_input": "2023-02-23T17:55:17.119350Z",
     "iopub.status.busy": "2023-02-23T17:55:17.117367Z",
     "iopub.status.idle": "2023-02-23T17:55:17.231344Z",
     "shell.execute_reply": "2023-02-23T17:55:17.230485Z",
     "shell.execute_reply.started": "2023-02-23T17:55:17.119292Z"
    }
   },
   "outputs": [],
   "source": [
    "lines=lines[~pd.isnull(lines['english_sentence'])]"
   ]
  },
  {
   "cell_type": "code",
   "execution_count": 7,
   "metadata": {
    "execution": {
     "iopub.execute_input": "2023-02-23T17:55:17.234224Z",
     "iopub.status.busy": "2023-02-23T17:55:17.233636Z",
     "iopub.status.idle": "2023-02-23T17:55:17.385296Z",
     "shell.execute_reply": "2023-02-23T17:55:17.384585Z",
     "shell.execute_reply.started": "2023-02-23T17:55:17.234170Z"
    }
   },
   "outputs": [],
   "source": [
    "#lines.drop_duplicates(inplace=True)\n",
    "lines.dropna(inplace=True)"
   ]
  },
  {
   "cell_type": "markdown",
   "metadata": {},
   "source": [
    "* ### Let us pick any 25000 rows from the dataset."
   ]
  },
  {
   "cell_type": "code",
   "execution_count": 8,
   "metadata": {
    "execution": {
     "iopub.execute_input": "2023-02-23T17:55:17.388211Z",
     "iopub.status.busy": "2023-02-23T17:55:17.387635Z",
     "iopub.status.idle": "2023-02-23T17:55:17.461627Z",
     "shell.execute_reply": "2023-02-23T17:55:17.460684Z",
     "shell.execute_reply.started": "2023-02-23T17:55:17.388157Z"
    }
   },
   "outputs": [
    {
     "data": {
      "text/plain": [
       "(250000, 2)"
      ]
     },
     "execution_count": 8,
     "metadata": {},
     "output_type": "execute_result"
    }
   ],
   "source": [
    "lines=lines.sample(n=250000,random_state=42)\n",
    "lines.shape"
   ]
  },
  {
   "cell_type": "code",
   "execution_count": 9,
   "metadata": {
    "execution": {
     "iopub.execute_input": "2023-02-23T17:55:17.463482Z",
     "iopub.status.busy": "2023-02-23T17:55:17.463059Z",
     "iopub.status.idle": "2023-02-23T17:55:17.477895Z",
     "shell.execute_reply": "2023-02-23T17:55:17.477116Z",
     "shell.execute_reply.started": "2023-02-23T17:55:17.463296Z"
    }
   },
   "outputs": [
    {
     "data": {
      "text/html": [
       "<div>\n",
       "<style scoped>\n",
       "    .dataframe tbody tr th:only-of-type {\n",
       "        vertical-align: middle;\n",
       "    }\n",
       "\n",
       "    .dataframe tbody tr th {\n",
       "        vertical-align: top;\n",
       "    }\n",
       "\n",
       "    .dataframe thead th {\n",
       "        text-align: right;\n",
       "    }\n",
       "</style>\n",
       "<table border=\"1\" class=\"dataframe\">\n",
       "  <thead>\n",
       "    <tr style=\"text-align: right;\">\n",
       "      <th></th>\n",
       "      <th>english_sentence</th>\n",
       "      <th>urdu_sentence</th>\n",
       "    </tr>\n",
       "  </thead>\n",
       "  <tbody>\n",
       "    <tr>\n",
       "      <th>12245</th>\n",
       "      <td>No. In fact you are not generous to the orphan...</td>\n",
       "      <td>نہیں بلکہ تم لوگ یتیم کی خاطر نہیں کرتے\\n</td>\n",
       "    </tr>\n",
       "    <tr>\n",
       "      <th>18958</th>\n",
       "      <td>Fight in the way of God, and remember that God...</td>\n",
       "      <td>اللہ تعالیٰ کی راه میں جہاد کرو اور جان لو کہ ...</td>\n",
       "    </tr>\n",
       "    <tr>\n",
       "      <th>163751</th>\n",
       "      <td>And they sold him for a mean price: a few dirh...</td>\n",
       "      <td>اور ان لوگوں نے یوسف کو معمولی قیمت پر بیچ ڈال...</td>\n",
       "    </tr>\n",
       "    <tr>\n",
       "      <th>516292</th>\n",
       "      <td>So which of the favors of your Lord would you ...</td>\n",
       "      <td>تو پھر تم اپنے رب کی کس کس نعمت کو جھٹلاؤ گے\\n</td>\n",
       "    </tr>\n",
       "    <tr>\n",
       "      <th>442620</th>\n",
       "      <td>and by this secure town:\\n</td>\n",
       "      <td>اور پُرامن شہر (مکہ) کی۔\\n</td>\n",
       "    </tr>\n",
       "  </tbody>\n",
       "</table>\n",
       "</div>"
      ],
      "text/plain": [
       "                                         english_sentence                                      urdu_sentence\n",
       "12245   No. In fact you are not generous to the orphan...          نہیں بلکہ تم لوگ یتیم کی خاطر نہیں کرتے\\n\n",
       "18958   Fight in the way of God, and remember that God...  اللہ تعالیٰ کی راه میں جہاد کرو اور جان لو کہ ...\n",
       "163751  And they sold him for a mean price: a few dirh...  اور ان لوگوں نے یوسف کو معمولی قیمت پر بیچ ڈال...\n",
       "516292  So which of the favors of your Lord would you ...     تو پھر تم اپنے رب کی کس کس نعمت کو جھٹلاؤ گے\\n\n",
       "442620                         and by this secure town:\\n                         اور پُرامن شہر (مکہ) کی۔\\n"
      ]
     },
     "execution_count": 9,
     "metadata": {},
     "output_type": "execute_result"
    }
   ],
   "source": [
    "lines.head()"
   ]
  },
  {
   "cell_type": "code",
   "execution_count": 10,
   "metadata": {
    "execution": {
     "iopub.execute_input": "2023-02-23T17:55:17.479840Z",
     "iopub.status.busy": "2023-02-23T17:55:17.479229Z",
     "iopub.status.idle": "2023-02-23T17:55:18.019513Z",
     "shell.execute_reply": "2023-02-23T17:55:18.018678Z",
     "shell.execute_reply.started": "2023-02-23T17:55:17.479789Z"
    }
   },
   "outputs": [],
   "source": [
    "# Lowercase all characters\n",
    "lines['english_sentence']=lines['english_sentence'].apply(lambda x: x.lower())\n",
    "lines['urdu_sentence']=lines['urdu_sentence'].apply(lambda x: x.lower())"
   ]
  },
  {
   "cell_type": "code",
   "execution_count": 11,
   "metadata": {
    "execution": {
     "iopub.execute_input": "2023-02-23T17:55:18.021598Z",
     "iopub.status.busy": "2023-02-23T17:55:18.021145Z",
     "iopub.status.idle": "2023-02-23T17:55:18.618918Z",
     "shell.execute_reply": "2023-02-23T17:55:18.618083Z",
     "shell.execute_reply.started": "2023-02-23T17:55:18.021399Z"
    }
   },
   "outputs": [],
   "source": [
    "# Remove quotes\n",
    "lines['english_sentence']=lines['english_sentence'].apply(lambda x: re.sub(\"'\", '', x))\n",
    "lines['urdu_sentence']=lines['urdu_sentence'].apply(lambda x: re.sub(\"'\", '', x))"
   ]
  },
  {
   "cell_type": "code",
   "execution_count": 12,
   "metadata": {
    "execution": {
     "iopub.execute_input": "2023-02-23T17:55:18.620446Z",
     "iopub.status.busy": "2023-02-23T17:55:18.620174Z",
     "iopub.status.idle": "2023-02-23T17:55:27.304259Z",
     "shell.execute_reply": "2023-02-23T17:55:27.303451Z",
     "shell.execute_reply.started": "2023-02-23T17:55:18.620399Z"
    }
   },
   "outputs": [],
   "source": [
    "exclude = set(string.punctuation) # Set of all special characters\n",
    "# Remove all the special characters\n",
    "lines['english_sentence']=lines['english_sentence'].apply(lambda x: ''.join(ch for ch in x if ch not in exclude))\n",
    "lines['urdu_sentence']=lines['urdu_sentence'].apply(lambda x: ''.join(ch for ch in x if ch not in exclude))"
   ]
  },
  {
   "cell_type": "code",
   "execution_count": 13,
   "metadata": {
    "execution": {
     "iopub.execute_input": "2023-02-23T17:55:27.305713Z",
     "iopub.status.busy": "2023-02-23T17:55:27.305440Z",
     "iopub.status.idle": "2023-02-23T17:55:37.663450Z",
     "shell.execute_reply": "2023-02-23T17:55:37.662576Z",
     "shell.execute_reply.started": "2023-02-23T17:55:27.305668Z"
    }
   },
   "outputs": [],
   "source": [
    "# Remove all numbers from text\n",
    "remove_digits = str.maketrans('', '', digits)\n",
    "lines['english_sentence']=lines['english_sentence'].apply(lambda x: x.translate(remove_digits))\n",
    "lines['urdu_sentence']=lines['urdu_sentence'].apply(lambda x: x.translate(remove_digits))\n",
    "\n",
    "lines['urdu_sentence'] = lines['urdu_sentence'].apply(lambda x: re.sub(\"[२३०८१५७९४६]\", \"\", x))\n",
    "\n",
    "# Remove extra spaces\n",
    "lines['english_sentence']=lines['english_sentence'].apply(lambda x: x.strip())\n",
    "lines['urdu_sentence']=lines['urdu_sentence'].apply(lambda x: x.strip())\n",
    "lines['english_sentence']=lines['english_sentence'].apply(lambda x: re.sub(\" +\", \" \", x))\n",
    "lines['urdu_sentence']=lines['urdu_sentence'].apply(lambda x: re.sub(\" +\", \" \", x))\n"
   ]
  },
  {
   "cell_type": "code",
   "execution_count": 14,
   "metadata": {
    "execution": {
     "iopub.execute_input": "2023-02-23T17:55:37.665365Z",
     "iopub.status.busy": "2023-02-23T17:55:37.665070Z",
     "iopub.status.idle": "2023-02-23T17:55:37.867689Z",
     "shell.execute_reply": "2023-02-23T17:55:37.866858Z",
     "shell.execute_reply.started": "2023-02-23T17:55:37.665312Z"
    }
   },
   "outputs": [],
   "source": [
    "# Add start and end tokens to target sequences\n",
    "lines['urdu_sentence'] = lines['urdu_sentence'].apply(lambda x : 'START_ '+ x + ' _END')"
   ]
  },
  {
   "cell_type": "code",
   "execution_count": 15,
   "metadata": {
    "execution": {
     "iopub.execute_input": "2023-02-23T17:55:37.869626Z",
     "iopub.status.busy": "2023-02-23T17:55:37.869143Z",
     "iopub.status.idle": "2023-02-23T17:55:37.885345Z",
     "shell.execute_reply": "2023-02-23T17:55:37.884289Z",
     "shell.execute_reply.started": "2023-02-23T17:55:37.869561Z"
    }
   },
   "outputs": [
    {
     "data": {
      "text/html": [
       "<div>\n",
       "<style scoped>\n",
       "    .dataframe tbody tr th:only-of-type {\n",
       "        vertical-align: middle;\n",
       "    }\n",
       "\n",
       "    .dataframe tbody tr th {\n",
       "        vertical-align: top;\n",
       "    }\n",
       "\n",
       "    .dataframe thead th {\n",
       "        text-align: right;\n",
       "    }\n",
       "</style>\n",
       "<table border=\"1\" class=\"dataframe\">\n",
       "  <thead>\n",
       "    <tr style=\"text-align: right;\">\n",
       "      <th></th>\n",
       "      <th>english_sentence</th>\n",
       "      <th>urdu_sentence</th>\n",
       "    </tr>\n",
       "  </thead>\n",
       "  <tbody>\n",
       "    <tr>\n",
       "      <th>12245</th>\n",
       "      <td>no in fact you are not generous to the orphans</td>\n",
       "      <td>START_ نہیں بلکہ تم لوگ یتیم کی خاطر نہیں کرتے...</td>\n",
       "    </tr>\n",
       "    <tr>\n",
       "      <th>18958</th>\n",
       "      <td>fight in the way of god and remember that god ...</td>\n",
       "      <td>START_ اللہ تعالیٰ کی راه میں جہاد کرو اور جان...</td>\n",
       "    </tr>\n",
       "    <tr>\n",
       "      <th>163751</th>\n",
       "      <td>and they sold him for a mean price a few dirha...</td>\n",
       "      <td>START_ اور ان لوگوں نے یوسف کو معمولی قیمت پر ...</td>\n",
       "    </tr>\n",
       "    <tr>\n",
       "      <th>516292</th>\n",
       "      <td>so which of the favors of your lord would you ...</td>\n",
       "      <td>START_ تو پھر تم اپنے رب کی کس کس نعمت کو جھٹل...</td>\n",
       "    </tr>\n",
       "    <tr>\n",
       "      <th>442620</th>\n",
       "      <td>and by this secure town</td>\n",
       "      <td>START_ اور پُرامن شہر مکہ کی۔ _END</td>\n",
       "    </tr>\n",
       "  </tbody>\n",
       "</table>\n",
       "</div>"
      ],
      "text/plain": [
       "                                         english_sentence                                      urdu_sentence\n",
       "12245      no in fact you are not generous to the orphans  START_ نہیں بلکہ تم لوگ یتیم کی خاطر نہیں کرتے...\n",
       "18958   fight in the way of god and remember that god ...  START_ اللہ تعالیٰ کی راه میں جہاد کرو اور جان...\n",
       "163751  and they sold him for a mean price a few dirha...  START_ اور ان لوگوں نے یوسف کو معمولی قیمت پر ...\n",
       "516292  so which of the favors of your lord would you ...  START_ تو پھر تم اپنے رب کی کس کس نعمت کو جھٹل...\n",
       "442620                            and by this secure town                 START_ اور پُرامن شہر مکہ کی۔ _END"
      ]
     },
     "execution_count": 15,
     "metadata": {},
     "output_type": "execute_result"
    }
   ],
   "source": [
    "lines.head()"
   ]
  },
  {
   "cell_type": "code",
   "execution_count": 16,
   "metadata": {
    "execution": {
     "iopub.execute_input": "2023-02-23T17:55:37.887352Z",
     "iopub.status.busy": "2023-02-23T17:55:37.886788Z",
     "iopub.status.idle": "2023-02-23T17:55:40.757869Z",
     "shell.execute_reply": "2023-02-23T17:55:40.757048Z",
     "shell.execute_reply.started": "2023-02-23T17:55:37.887172Z"
    }
   },
   "outputs": [],
   "source": [
    "### Get English and Urdu Vocabulary\n",
    "all_eng_words=set()\n",
    "for eng in lines['english_sentence']:\n",
    "    for word in eng.split():\n",
    "        if word not in all_eng_words:\n",
    "            all_eng_words.add(word)\n",
    "\n",
    "all_urdu_words=set()\n",
    "for hin in lines['urdu_sentence']:\n",
    "    for word in hin.split():\n",
    "        if word not in all_urdu_words:\n",
    "            all_urdu_words.add(word)"
   ]
  },
  {
   "cell_type": "code",
   "execution_count": 17,
   "metadata": {
    "execution": {
     "iopub.execute_input": "2023-02-23T17:55:40.759481Z",
     "iopub.status.busy": "2023-02-23T17:55:40.759206Z",
     "iopub.status.idle": "2023-02-23T17:55:40.766317Z",
     "shell.execute_reply": "2023-02-23T17:55:40.765498Z",
     "shell.execute_reply.started": "2023-02-23T17:55:40.759436Z"
    }
   },
   "outputs": [
    {
     "data": {
      "text/plain": [
       "21943"
      ]
     },
     "execution_count": 17,
     "metadata": {},
     "output_type": "execute_result"
    }
   ],
   "source": [
    "len(all_eng_words)"
   ]
  },
  {
   "cell_type": "code",
   "execution_count": 18,
   "metadata": {
    "execution": {
     "iopub.execute_input": "2023-02-23T17:55:40.768200Z",
     "iopub.status.busy": "2023-02-23T17:55:40.767654Z",
     "iopub.status.idle": "2023-02-23T17:55:40.774448Z",
     "shell.execute_reply": "2023-02-23T17:55:40.773537Z",
     "shell.execute_reply.started": "2023-02-23T17:55:40.768149Z"
    }
   },
   "outputs": [
    {
     "data": {
      "text/plain": [
       "22981"
      ]
     },
     "execution_count": 18,
     "metadata": {},
     "output_type": "execute_result"
    }
   ],
   "source": [
    "len(all_urdu_words)"
   ]
  },
  {
   "cell_type": "code",
   "execution_count": 19,
   "metadata": {
    "execution": {
     "iopub.execute_input": "2023-02-23T17:55:40.776410Z",
     "iopub.status.busy": "2023-02-23T17:55:40.775878Z",
     "iopub.status.idle": "2023-02-23T17:55:41.756023Z",
     "shell.execute_reply": "2023-02-23T17:55:41.755092Z",
     "shell.execute_reply.started": "2023-02-23T17:55:40.776362Z"
    }
   },
   "outputs": [],
   "source": [
    "lines['length_eng_sentence']=lines['english_sentence'].apply(lambda x:len(x.split(\" \")))\n",
    "lines['length_urdu_sentence']=lines['urdu_sentence'].apply(lambda x:len(x.split(\" \")))"
   ]
  },
  {
   "cell_type": "code",
   "execution_count": 20,
   "metadata": {
    "execution": {
     "iopub.execute_input": "2023-02-23T17:55:41.757615Z",
     "iopub.status.busy": "2023-02-23T17:55:41.757327Z",
     "iopub.status.idle": "2023-02-23T17:55:41.780853Z",
     "shell.execute_reply": "2023-02-23T17:55:41.780134Z",
     "shell.execute_reply.started": "2023-02-23T17:55:41.757569Z"
    }
   },
   "outputs": [
    {
     "data": {
      "text/html": [
       "<div>\n",
       "<style scoped>\n",
       "    .dataframe tbody tr th:only-of-type {\n",
       "        vertical-align: middle;\n",
       "    }\n",
       "\n",
       "    .dataframe tbody tr th {\n",
       "        vertical-align: top;\n",
       "    }\n",
       "\n",
       "    .dataframe thead th {\n",
       "        text-align: right;\n",
       "    }\n",
       "</style>\n",
       "<table border=\"1\" class=\"dataframe\">\n",
       "  <thead>\n",
       "    <tr style=\"text-align: right;\">\n",
       "      <th></th>\n",
       "      <th>english_sentence</th>\n",
       "      <th>urdu_sentence</th>\n",
       "      <th>length_eng_sentence</th>\n",
       "      <th>length_urdu_sentence</th>\n",
       "    </tr>\n",
       "  </thead>\n",
       "  <tbody>\n",
       "    <tr>\n",
       "      <th>12245</th>\n",
       "      <td>no in fact you are not generous to the orphans</td>\n",
       "      <td>START_ نہیں بلکہ تم لوگ یتیم کی خاطر نہیں کرتے...</td>\n",
       "      <td>10</td>\n",
       "      <td>11</td>\n",
       "    </tr>\n",
       "    <tr>\n",
       "      <th>18958</th>\n",
       "      <td>fight in the way of god and remember that god ...</td>\n",
       "      <td>START_ اللہ تعالیٰ کی راه میں جہاد کرو اور جان...</td>\n",
       "      <td>15</td>\n",
       "      <td>18</td>\n",
       "    </tr>\n",
       "    <tr>\n",
       "      <th>163751</th>\n",
       "      <td>and they sold him for a mean price a few dirha...</td>\n",
       "      <td>START_ اور ان لوگوں نے یوسف کو معمولی قیمت پر ...</td>\n",
       "      <td>22</td>\n",
       "      <td>26</td>\n",
       "    </tr>\n",
       "    <tr>\n",
       "      <th>516292</th>\n",
       "      <td>so which of the favors of your lord would you ...</td>\n",
       "      <td>START_ تو پھر تم اپنے رب کی کس کس نعمت کو جھٹل...</td>\n",
       "      <td>11</td>\n",
       "      <td>14</td>\n",
       "    </tr>\n",
       "    <tr>\n",
       "      <th>442620</th>\n",
       "      <td>and by this secure town</td>\n",
       "      <td>START_ اور پُرامن شہر مکہ کی۔ _END</td>\n",
       "      <td>5</td>\n",
       "      <td>7</td>\n",
       "    </tr>\n",
       "  </tbody>\n",
       "</table>\n",
       "</div>"
      ],
      "text/plain": [
       "                                         english_sentence         ...          length_urdu_sentence\n",
       "12245      no in fact you are not generous to the orphans         ...                            11\n",
       "18958   fight in the way of god and remember that god ...         ...                            18\n",
       "163751  and they sold him for a mean price a few dirha...         ...                            26\n",
       "516292  so which of the favors of your lord would you ...         ...                            14\n",
       "442620                            and by this secure town         ...                             7\n",
       "\n",
       "[5 rows x 4 columns]"
      ]
     },
     "execution_count": 20,
     "metadata": {},
     "output_type": "execute_result"
    }
   ],
   "source": [
    "lines.head()"
   ]
  },
  {
   "cell_type": "code",
   "execution_count": 21,
   "metadata": {
    "execution": {
     "iopub.execute_input": "2023-02-23T17:55:41.782606Z",
     "iopub.status.busy": "2023-02-23T17:55:41.782095Z",
     "iopub.status.idle": "2023-02-23T17:55:41.800858Z",
     "shell.execute_reply": "2023-02-23T17:55:41.799950Z",
     "shell.execute_reply.started": "2023-02-23T17:55:41.782539Z"
    }
   },
   "outputs": [
    {
     "data": {
      "text/plain": [
       "(72985, 4)"
      ]
     },
     "execution_count": 21,
     "metadata": {},
     "output_type": "execute_result"
    }
   ],
   "source": [
    "lines[lines['length_eng_sentence']>30].shape"
   ]
  },
  {
   "cell_type": "code",
   "execution_count": 22,
   "metadata": {
    "execution": {
     "iopub.execute_input": "2023-02-23T17:55:41.802758Z",
     "iopub.status.busy": "2023-02-23T17:55:41.802319Z",
     "iopub.status.idle": "2023-02-23T17:55:41.824942Z",
     "shell.execute_reply": "2023-02-23T17:55:41.824197Z",
     "shell.execute_reply.started": "2023-02-23T17:55:41.802554Z"
    }
   },
   "outputs": [],
   "source": [
    "lines=lines[lines['length_eng_sentence']<=20]\n",
    "lines=lines[lines['length_urdu_sentence']<=20]"
   ]
  },
  {
   "cell_type": "code",
   "execution_count": 23,
   "metadata": {
    "execution": {
     "iopub.execute_input": "2023-02-23T17:55:41.826770Z",
     "iopub.status.busy": "2023-02-23T17:55:41.826335Z",
     "iopub.status.idle": "2023-02-23T17:55:41.832084Z",
     "shell.execute_reply": "2023-02-23T17:55:41.831240Z",
     "shell.execute_reply.started": "2023-02-23T17:55:41.826582Z"
    }
   },
   "outputs": [
    {
     "data": {
      "text/plain": [
       "(87341, 4)"
      ]
     },
     "execution_count": 23,
     "metadata": {},
     "output_type": "execute_result"
    }
   ],
   "source": [
    "lines.shape"
   ]
  },
  {
   "cell_type": "code",
   "execution_count": 24,
   "metadata": {
    "execution": {
     "iopub.execute_input": "2023-02-23T17:55:41.833896Z",
     "iopub.status.busy": "2023-02-23T17:55:41.833386Z",
     "iopub.status.idle": "2023-02-23T17:55:41.847728Z",
     "shell.execute_reply": "2023-02-23T17:55:41.846888Z",
     "shell.execute_reply.started": "2023-02-23T17:55:41.833846Z"
    }
   },
   "outputs": [
    {
     "name": "stdout",
     "output_type": "stream",
     "text": [
      "maximum length of Urdu Sentence  20\n",
      "maximum length of English Sentence  20\n"
     ]
    }
   ],
   "source": [
    "print(\"maximum length of Urdu Sentence \",max(lines['length_urdu_sentence']))\n",
    "print(\"maximum length of English Sentence \",max(lines['length_eng_sentence']))"
   ]
  },
  {
   "cell_type": "code",
   "execution_count": 25,
   "metadata": {
    "execution": {
     "iopub.execute_input": "2023-02-23T17:55:41.849690Z",
     "iopub.status.busy": "2023-02-23T17:55:41.849239Z",
     "iopub.status.idle": "2023-02-23T17:55:41.859218Z",
     "shell.execute_reply": "2023-02-23T17:55:41.858466Z",
     "shell.execute_reply.started": "2023-02-23T17:55:41.849478Z"
    }
   },
   "outputs": [],
   "source": [
    "max_length_src=max(lines['length_urdu_sentence'])\n",
    "max_length_tar=max(lines['length_eng_sentence'])"
   ]
  },
  {
   "cell_type": "code",
   "execution_count": 26,
   "metadata": {
    "execution": {
     "iopub.execute_input": "2023-02-23T17:55:41.860972Z",
     "iopub.status.busy": "2023-02-23T17:55:41.860451Z",
     "iopub.status.idle": "2023-02-23T17:55:41.892647Z",
     "shell.execute_reply": "2023-02-23T17:55:41.891611Z",
     "shell.execute_reply.started": "2023-02-23T17:55:41.860923Z"
    }
   },
   "outputs": [
    {
     "data": {
      "text/plain": [
       "(21943, 22981)"
      ]
     },
     "execution_count": 26,
     "metadata": {},
     "output_type": "execute_result"
    }
   ],
   "source": [
    "input_words = sorted(list(all_eng_words))\n",
    "target_words = sorted(list(all_urdu_words))\n",
    "num_encoder_tokens = len(all_eng_words)\n",
    "num_decoder_tokens = len(all_urdu_words)\n",
    "num_encoder_tokens, num_decoder_tokens"
   ]
  },
  {
   "cell_type": "code",
   "execution_count": 27,
   "metadata": {
    "execution": {
     "iopub.execute_input": "2023-02-23T17:55:41.894424Z",
     "iopub.status.busy": "2023-02-23T17:55:41.893922Z",
     "iopub.status.idle": "2023-02-23T17:55:41.902113Z",
     "shell.execute_reply": "2023-02-23T17:55:41.901359Z",
     "shell.execute_reply.started": "2023-02-23T17:55:41.894203Z"
    }
   },
   "outputs": [],
   "source": [
    "num_decoder_tokens += 1 #for zero padding\n"
   ]
  },
  {
   "cell_type": "code",
   "execution_count": 28,
   "metadata": {
    "execution": {
     "iopub.execute_input": "2023-02-23T17:55:41.905018Z",
     "iopub.status.busy": "2023-02-23T17:55:41.904420Z",
     "iopub.status.idle": "2023-02-23T17:55:41.926468Z",
     "shell.execute_reply": "2023-02-23T17:55:41.925820Z",
     "shell.execute_reply.started": "2023-02-23T17:55:41.904926Z"
    }
   },
   "outputs": [],
   "source": [
    "input_token_index = dict([(word, i+1) for i, word in enumerate(input_words)])\n",
    "target_token_index = dict([(word, i+1) for i, word in enumerate(target_words)])"
   ]
  },
  {
   "cell_type": "code",
   "execution_count": 29,
   "metadata": {
    "execution": {
     "iopub.execute_input": "2023-02-23T17:55:41.928507Z",
     "iopub.status.busy": "2023-02-23T17:55:41.928044Z",
     "iopub.status.idle": "2023-02-23T17:55:41.942473Z",
     "shell.execute_reply": "2023-02-23T17:55:41.941678Z",
     "shell.execute_reply.started": "2023-02-23T17:55:41.928322Z"
    }
   },
   "outputs": [],
   "source": [
    "reverse_input_char_index = dict((i, word) for word, i in input_token_index.items())\n",
    "reverse_target_char_index = dict((i, word) for word, i in target_token_index.items())"
   ]
  },
  {
   "cell_type": "code",
   "execution_count": 30,
   "metadata": {
    "execution": {
     "iopub.execute_input": "2023-02-23T17:55:41.944361Z",
     "iopub.status.busy": "2023-02-23T17:55:41.943948Z",
     "iopub.status.idle": "2023-02-23T17:55:41.977949Z",
     "shell.execute_reply": "2023-02-23T17:55:41.977235Z",
     "shell.execute_reply.started": "2023-02-23T17:55:41.944181Z"
    }
   },
   "outputs": [
    {
     "data": {
      "text/html": [
       "<div>\n",
       "<style scoped>\n",
       "    .dataframe tbody tr th:only-of-type {\n",
       "        vertical-align: middle;\n",
       "    }\n",
       "\n",
       "    .dataframe tbody tr th {\n",
       "        vertical-align: top;\n",
       "    }\n",
       "\n",
       "    .dataframe thead th {\n",
       "        text-align: right;\n",
       "    }\n",
       "</style>\n",
       "<table border=\"1\" class=\"dataframe\">\n",
       "  <thead>\n",
       "    <tr style=\"text-align: right;\">\n",
       "      <th></th>\n",
       "      <th>english_sentence</th>\n",
       "      <th>urdu_sentence</th>\n",
       "      <th>length_eng_sentence</th>\n",
       "      <th>length_urdu_sentence</th>\n",
       "    </tr>\n",
       "  </thead>\n",
       "  <tbody>\n",
       "    <tr>\n",
       "      <th>747130</th>\n",
       "      <td>see ye the water which ye drink</td>\n",
       "      <td>START_ بھلا یہ بتاؤ جو پانی تم پیتے ہو، _END</td>\n",
       "      <td>7</td>\n",
       "      <td>10</td>\n",
       "    </tr>\n",
       "    <tr>\n",
       "      <th>404094</th>\n",
       "      <td>who will reside in the gardens of bliss</td>\n",
       "      <td>START_ نعمت کے باغات ہوں گے _END</td>\n",
       "      <td>8</td>\n",
       "      <td>7</td>\n",
       "    </tr>\n",
       "    <tr>\n",
       "      <th>42259</th>\n",
       "      <td>and keep laughing and do not weep</td>\n",
       "      <td>START_ اور ہنستے ہو اور روتے نہیں۔ _END</td>\n",
       "      <td>7</td>\n",
       "      <td>8</td>\n",
       "    </tr>\n",
       "    <tr>\n",
       "      <th>347661</th>\n",
       "      <td>by the heaven with its numerous forms</td>\n",
       "      <td>START_ اور ستاروں اور سیّاروں کی کہکشاؤں اور گ...</td>\n",
       "      <td>7</td>\n",
       "      <td>14</td>\n",
       "    </tr>\n",
       "    <tr>\n",
       "      <th>679377</th>\n",
       "      <td>o man having striven hard towards your lord yo...</td>\n",
       "      <td>START_ اے آدمی بیشک تجھے اپنے رب کی طرف ضرور د...</td>\n",
       "      <td>12</td>\n",
       "      <td>17</td>\n",
       "    </tr>\n",
       "    <tr>\n",
       "      <th>203342</th>\n",
       "      <td>by those angels who bring the book and the qur...</td>\n",
       "      <td>START_ پھر ذکر الہیٰ کے تلاوت کرنے والوں کی _END</td>\n",
       "      <td>17</td>\n",
       "      <td>10</td>\n",
       "    </tr>\n",
       "    <tr>\n",
       "      <th>109245</th>\n",
       "      <td>and not a thing is there hidden in heaven and ...</td>\n",
       "      <td>START_ اور آسمانوں اور زمین میں کوئی پوشیدہ چی...</td>\n",
       "      <td>18</td>\n",
       "      <td>20</td>\n",
       "    </tr>\n",
       "    <tr>\n",
       "      <th>734307</th>\n",
       "      <td>as also in your own selves will ye not then see</td>\n",
       "      <td>START_ اور خود تمہارے اپنے وجود میں ہیں کیا تم...</td>\n",
       "      <td>11</td>\n",
       "      <td>14</td>\n",
       "    </tr>\n",
       "    <tr>\n",
       "      <th>253119</th>\n",
       "      <td>nor are the darkness and the light</td>\n",
       "      <td>START_ اور نہ اندھیرے اور نہ روشنی _END</td>\n",
       "      <td>7</td>\n",
       "      <td>8</td>\n",
       "    </tr>\n",
       "    <tr>\n",
       "      <th>690360</th>\n",
       "      <td>we have not wronged them it was they who were ...</td>\n",
       "      <td>START_ اور ہم نے ان پر ظلم نہیں کیا لیکن وہ خو...</td>\n",
       "      <td>12</td>\n",
       "      <td>19</td>\n",
       "    </tr>\n",
       "  </tbody>\n",
       "</table>\n",
       "</div>"
      ],
      "text/plain": [
       "                                         english_sentence         ...          length_urdu_sentence\n",
       "747130                    see ye the water which ye drink         ...                            10\n",
       "404094            who will reside in the gardens of bliss         ...                             7\n",
       "42259                   and keep laughing and do not weep         ...                             8\n",
       "347661              by the heaven with its numerous forms         ...                            14\n",
       "679377  o man having striven hard towards your lord yo...         ...                            17\n",
       "203342  by those angels who bring the book and the qur...         ...                            10\n",
       "109245  and not a thing is there hidden in heaven and ...         ...                            20\n",
       "734307    as also in your own selves will ye not then see         ...                            14\n",
       "253119                 nor are the darkness and the light         ...                             8\n",
       "690360  we have not wronged them it was they who were ...         ...                            19\n",
       "\n",
       "[10 rows x 4 columns]"
      ]
     },
     "execution_count": 30,
     "metadata": {},
     "output_type": "execute_result"
    }
   ],
   "source": [
    "lines = shuffle(lines)\n",
    "lines.head(10)"
   ]
  },
  {
   "cell_type": "markdown",
   "metadata": {},
   "source": [
    "### Split the data into train and test"
   ]
  },
  {
   "cell_type": "code",
   "execution_count": 31,
   "metadata": {
    "execution": {
     "iopub.execute_input": "2023-02-23T17:55:41.979595Z",
     "iopub.status.busy": "2023-02-23T17:55:41.979133Z",
     "iopub.status.idle": "2023-02-23T17:55:42.001790Z",
     "shell.execute_reply": "2023-02-23T17:55:42.000868Z",
     "shell.execute_reply.started": "2023-02-23T17:55:41.979544Z"
    }
   },
   "outputs": [
    {
     "data": {
      "text/plain": [
       "((69872,), (17469,))"
      ]
     },
     "execution_count": 31,
     "metadata": {},
     "output_type": "execute_result"
    }
   ],
   "source": [
    "X, y = lines['english_sentence'], lines['urdu_sentence']\n",
    "X_train, X_test, y_train, y_test = train_test_split(X, y, test_size = 0.2,random_state=42)\n",
    "X_train.shape, X_test.shape"
   ]
  },
  {
   "cell_type": "markdown",
   "metadata": {},
   "source": [
    "### Let us save this data"
   ]
  },
  {
   "cell_type": "code",
   "execution_count": 32,
   "metadata": {
    "execution": {
     "iopub.execute_input": "2023-02-23T17:55:42.003541Z",
     "iopub.status.busy": "2023-02-23T17:55:42.003116Z",
     "iopub.status.idle": "2023-02-23T17:55:42.266928Z",
     "shell.execute_reply": "2023-02-23T17:55:42.266097Z",
     "shell.execute_reply.started": "2023-02-23T17:55:42.003343Z"
    }
   },
   "outputs": [],
   "source": [
    "X_train.to_pickle('X_train.pkl')\n",
    "X_test.to_pickle('X_test.pkl')\n"
   ]
  },
  {
   "cell_type": "code",
   "execution_count": 33,
   "metadata": {
    "execution": {
     "iopub.execute_input": "2023-02-23T17:55:42.269093Z",
     "iopub.status.busy": "2023-02-23T17:55:42.268532Z",
     "iopub.status.idle": "2023-02-23T17:55:42.276644Z",
     "shell.execute_reply": "2023-02-23T17:55:42.275798Z",
     "shell.execute_reply.started": "2023-02-23T17:55:42.269028Z"
    }
   },
   "outputs": [],
   "source": [
    "def generate_batch(X = X_train, y = y_train, batch_size = 128):\n",
    "    ''' Generate a batch of data '''\n",
    "    while True:\n",
    "        for j in range(0, len(X), batch_size):\n",
    "            encoder_input_data = np.zeros((batch_size, max_length_src),dtype='float32')\n",
    "            decoder_input_data = np.zeros((batch_size, max_length_tar),dtype='float32')\n",
    "            decoder_target_data = np.zeros((batch_size, max_length_tar, num_decoder_tokens),dtype='float32')\n",
    "            for i, (input_text, target_text) in enumerate(zip(X[j:j+batch_size], y[j:j+batch_size])):\n",
    "                for t, word in enumerate(input_text.split()):\n",
    "                    encoder_input_data[i, t] = input_token_index[word] # encoder input seq\n",
    "                for t, word in enumerate(target_text.split()):\n",
    "                    if t<len(target_text.split())-1:\n",
    "                        decoder_input_data[i, t] = target_token_index[word] # decoder input seq\n",
    "                    if t>0:\n",
    "                        # decoder target sequence (one hot encoded)\n",
    "                        # does not include the START_ token\n",
    "                        # Offset by one timestep\n",
    "                        decoder_target_data[i, t - 1, target_token_index[word]] = 1.\n",
    "            yield([encoder_input_data, decoder_input_data], decoder_target_data)"
   ]
  },
  {
   "cell_type": "markdown",
   "metadata": {},
   "source": [
    "### Encoder-Decoder Architecture"
   ]
  },
  {
   "cell_type": "code",
   "execution_count": 34,
   "metadata": {
    "execution": {
     "iopub.execute_input": "2023-02-23T17:55:42.278673Z",
     "iopub.status.busy": "2023-02-23T17:55:42.278214Z",
     "iopub.status.idle": "2023-02-23T17:55:42.288986Z",
     "shell.execute_reply": "2023-02-23T17:55:42.288362Z",
     "shell.execute_reply.started": "2023-02-23T17:55:42.278493Z"
    }
   },
   "outputs": [],
   "source": [
    "latent_dim=300"
   ]
  },
  {
   "cell_type": "code",
   "execution_count": 35,
   "metadata": {
    "execution": {
     "iopub.execute_input": "2023-02-23T17:55:42.290320Z",
     "iopub.status.busy": "2023-02-23T17:55:42.290072Z",
     "iopub.status.idle": "2023-02-23T17:55:42.704359Z",
     "shell.execute_reply": "2023-02-23T17:55:42.703673Z",
     "shell.execute_reply.started": "2023-02-23T17:55:42.290267Z"
    }
   },
   "outputs": [
    {
     "name": "stdout",
     "output_type": "stream",
     "text": [
      "WARNING:tensorflow:From /opt/conda/lib/python3.6/site-packages/tensorflow/python/framework/op_def_library.py:263: colocate_with (from tensorflow.python.framework.ops) is deprecated and will be removed in a future version.\n",
      "Instructions for updating:\n",
      "Colocations handled automatically by placer.\n"
     ]
    }
   ],
   "source": [
    "# Encoder\n",
    "encoder_inputs = Input(shape=(None,))\n",
    "enc_emb =  Embedding(num_encoder_tokens, latent_dim, mask_zero = True)(encoder_inputs)\n",
    "encoder_lstm = LSTM(latent_dim, return_state=True)\n",
    "encoder_outputs, state_h, state_c = encoder_lstm(enc_emb)\n",
    "# We discard `encoder_outputs` and only keep the states.\n",
    "encoder_states = [state_h, state_c]"
   ]
  },
  {
   "cell_type": "code",
   "execution_count": 36,
   "metadata": {
    "execution": {
     "iopub.execute_input": "2023-02-23T17:55:42.707781Z",
     "iopub.status.busy": "2023-02-23T17:55:42.707469Z",
     "iopub.status.idle": "2023-02-23T17:55:43.095030Z",
     "shell.execute_reply": "2023-02-23T17:55:43.094197Z",
     "shell.execute_reply.started": "2023-02-23T17:55:42.707710Z"
    }
   },
   "outputs": [],
   "source": [
    "# Set up the decoder, using `encoder_states` as initial state.\n",
    "decoder_inputs = Input(shape=(None,))\n",
    "dec_emb_layer = Embedding(num_decoder_tokens, latent_dim, mask_zero = True)\n",
    "dec_emb = dec_emb_layer(decoder_inputs)\n",
    "# We set up our decoder to return full output sequences,\n",
    "# and to return internal states as well. We don't use the\n",
    "# return states in the training model, but we will use them in inference.\n",
    "decoder_lstm = LSTM(latent_dim, return_sequences=True, return_state=True)\n",
    "decoder_outputs, _, _ = decoder_lstm(dec_emb,\n",
    "                                     initial_state=encoder_states)\n",
    "decoder_dense = Dense(num_decoder_tokens, activation='softmax')\n",
    "decoder_outputs = decoder_dense(decoder_outputs)\n",
    "\n",
    "# Define the model that will turn\n",
    "# `encoder_input_data` & `decoder_input_data` into `decoder_target_data`\n",
    "model = Model([encoder_inputs, decoder_inputs], decoder_outputs)"
   ]
  },
  {
   "cell_type": "code",
   "execution_count": 37,
   "metadata": {
    "execution": {
     "iopub.execute_input": "2023-02-23T17:55:43.096556Z",
     "iopub.status.busy": "2023-02-23T17:55:43.096289Z",
     "iopub.status.idle": "2023-02-23T17:55:43.133560Z",
     "shell.execute_reply": "2023-02-23T17:55:43.132980Z",
     "shell.execute_reply.started": "2023-02-23T17:55:43.096509Z"
    }
   },
   "outputs": [],
   "source": [
    "model.compile(optimizer='rmsprop', loss='categorical_crossentropy')"
   ]
  },
  {
   "cell_type": "code",
   "execution_count": 38,
   "metadata": {
    "execution": {
     "iopub.execute_input": "2023-02-23T17:55:43.135619Z",
     "iopub.status.busy": "2023-02-23T17:55:43.135160Z",
     "iopub.status.idle": "2023-02-23T17:55:43.145591Z",
     "shell.execute_reply": "2023-02-23T17:55:43.144778Z",
     "shell.execute_reply.started": "2023-02-23T17:55:43.135399Z"
    }
   },
   "outputs": [
    {
     "name": "stdout",
     "output_type": "stream",
     "text": [
      "__________________________________________________________________________________________________\n",
      "Layer (type)                    Output Shape         Param #     Connected to                     \n",
      "==================================================================================================\n",
      "input_1 (InputLayer)            (None, None)         0                                            \n",
      "__________________________________________________________________________________________________\n",
      "input_2 (InputLayer)            (None, None)         0                                            \n",
      "__________________________________________________________________________________________________\n",
      "embedding_1 (Embedding)         (None, None, 300)    6582900     input_1[0][0]                    \n",
      "__________________________________________________________________________________________________\n",
      "embedding_2 (Embedding)         (None, None, 300)    6894600     input_2[0][0]                    \n",
      "__________________________________________________________________________________________________\n",
      "lstm_1 (LSTM)                   [(None, 300), (None, 721200      embedding_1[0][0]                \n",
      "__________________________________________________________________________________________________\n",
      "lstm_2 (LSTM)                   [(None, None, 300),  721200      embedding_2[0][0]                \n",
      "                                                                 lstm_1[0][1]                     \n",
      "                                                                 lstm_1[0][2]                     \n",
      "__________________________________________________________________________________________________\n",
      "dense_1 (Dense)                 (None, None, 22982)  6917582     lstm_2[0][0]                     \n",
      "==================================================================================================\n",
      "Total params: 21,837,482\n",
      "Trainable params: 21,837,482\n",
      "Non-trainable params: 0\n",
      "__________________________________________________________________________________________________\n"
     ]
    }
   ],
   "source": [
    "model.summary()"
   ]
  },
  {
   "cell_type": "code",
   "execution_count": 39,
   "metadata": {
    "execution": {
     "iopub.execute_input": "2023-02-23T17:55:43.147030Z",
     "iopub.status.busy": "2023-02-23T17:55:43.146727Z",
     "iopub.status.idle": "2023-02-23T17:55:43.153798Z",
     "shell.execute_reply": "2023-02-23T17:55:43.151709Z",
     "shell.execute_reply.started": "2023-02-23T17:55:43.146982Z"
    }
   },
   "outputs": [],
   "source": [
    "train_samples = len(X_train)\n",
    "val_samples = len(X_test)\n",
    "batch_size = 128\n",
    "epochs = 10"
   ]
  },
  {
   "cell_type": "code",
   "execution_count": 40,
   "metadata": {
    "execution": {
     "iopub.execute_input": "2023-02-23T17:55:43.156170Z",
     "iopub.status.busy": "2023-02-23T17:55:43.155381Z",
     "iopub.status.idle": "2023-02-23T17:56:08.710616Z",
     "shell.execute_reply": "2023-02-23T17:56:08.642797Z",
     "shell.execute_reply.started": "2023-02-23T17:55:43.156120Z"
    }
   },
   "outputs": [
    {
     "name": "stdout",
     "output_type": "stream",
     "text": [
      "WARNING:tensorflow:From /opt/conda/lib/python3.6/site-packages/tensorflow/python/ops/math_ops.py:3066: to_int32 (from tensorflow.python.ops.math_ops) is deprecated and will be removed in a future version.\n",
      "Instructions for updating:\n",
      "Use tf.cast instead.\n",
      "WARNING:tensorflow:From /opt/conda/lib/python3.6/site-packages/tensorflow/python/ops/math_grad.py:102: div (from tensorflow.python.ops.math_ops) is deprecated and will be removed in a future version.\n",
      "Instructions for updating:\n",
      "Deprecated in favor of operator or tf.math.divide.\n",
      "Epoch 1/10\n",
      "545/545 [==============================] - 289s 531ms/step - loss: 5.2315 - val_loss: 4.4325\n",
      "Epoch 2/10\n",
      "545/545 [==============================] - 285s 523ms/step - loss: 3.9518 - val_loss: 3.5416\n",
      "Epoch 3/10\n",
      "545/545 [==============================] - 286s 526ms/step - loss: 3.1739 - val_loss: 2.9633\n",
      "Epoch 4/10\n",
      "545/545 [==============================] - 287s 527ms/step - loss: 2.6381 - val_loss: 2.5743\n",
      "Epoch 5/10\n",
      "545/545 [==============================] - 287s 527ms/step - loss: 2.2493 - val_loss: 2.2932\n",
      "Epoch 6/10\n",
      "545/545 [==============================] - 287s 527ms/step - loss: 1.9467 - val_loss: 2.0773\n",
      "Epoch 7/10\n",
      "545/545 [==============================] - 286s 525ms/step - loss: 1.7029 - val_loss: 1.9077\n",
      "Epoch 8/10\n",
      "545/545 [==============================] - 287s 526ms/step - loss: 1.4958 - val_loss: 1.7657\n",
      "Epoch 9/10\n",
      "545/545 [==============================] - 287s 526ms/step - loss: 1.3241 - val_loss: 1.6405\n",
      "Epoch 10/10\n",
      "443/545 [=======================>......] - ETA: 44s - loss: 1.1907"
     ]
    }
   ],
   "source": [
    "model.fit_generator(generator = generate_batch(X_train, y_train, batch_size = batch_size),\n",
    "                    steps_per_epoch = train_samples//batch_size,\n",
    "                    epochs=epochs,\n",
    "                    validation_data = generate_batch(X_test, y_test, batch_size = batch_size),\n",
    "                    validation_steps = val_samples//batch_size)\n",
    "\n"
   ]
  },
  {
   "cell_type": "code",
   "execution_count": 41,
   "metadata": {
    "execution": {
     "iopub.status.busy": "2023-02-23T17:56:08.643703Z",
     "iopub.status.idle": "2023-02-23T17:56:08.644397Z"
    }
   },
   "outputs": [],
   "source": [
    "model.save_weights('nmt_weights.h5')"
   ]
  },
  {
   "cell_type": "code",
   "execution_count": 42,
   "metadata": {
    "execution": {
     "iopub.status.busy": "2023-02-23T17:56:08.645236Z",
     "iopub.status.idle": "2023-02-23T17:56:08.645899Z"
    }
   },
   "outputs": [
    {
     "name": "stderr",
     "output_type": "stream",
     "text": [
      "/opt/conda/lib/python3.6/site-packages/keras/engine/network.py:877: UserWarning: Layer lstm_2 was passed non-serializable keyword arguments: {'initial_state': [<tf.Tensor 'lstm_1/while/Exit_2:0' shape=(?, 300) dtype=float32>, <tf.Tensor 'lstm_1/while/Exit_3:0' shape=(?, 300) dtype=float32>]}. They will not be included in the serialized model (and thus will be missing at deserialization time).\n",
      "  '. They will not be included '\n"
     ]
    }
   ],
   "source": [
    "model.save(\"./model.h5\")"
   ]
  },
  {
   "cell_type": "code",
   "execution_count": 43,
   "metadata": {
    "execution": {
     "iopub.status.busy": "2023-02-23T17:56:08.646697Z",
     "iopub.status.idle": "2023-02-23T17:56:08.647411Z"
    }
   },
   "outputs": [],
   "source": [
    "# Encode the input sequence to get the \"thought vectors\"\n",
    "encoder_model = Model(encoder_inputs, encoder_states)\n",
    "\n",
    "# Decoder setup\n",
    "# Below tensors will hold the states of the previous time step\n",
    "decoder_state_input_h = Input(shape=(latent_dim,))\n",
    "decoder_state_input_c = Input(shape=(latent_dim,))\n",
    "decoder_states_inputs = [decoder_state_input_h, decoder_state_input_c]\n",
    "\n",
    "dec_emb2= dec_emb_layer(decoder_inputs) # Get the embeddings of the decoder sequence\n",
    "\n",
    "# To predict the next word in the sequence, set the initial states to the states from the previous time step\n",
    "decoder_outputs2, state_h2, state_c2 = decoder_lstm(dec_emb2, initial_state=decoder_states_inputs)\n",
    "decoder_states2 = [state_h2, state_c2]\n",
    "decoder_outputs2 = decoder_dense(decoder_outputs2) # A dense softmax layer to generate prob dist. over the target vocabulary\n",
    "\n",
    "# Final decoder model\n",
    "decoder_model = Model(\n",
    "    [decoder_inputs] + decoder_states_inputs,\n",
    "    [decoder_outputs2] + decoder_states2)\n"
   ]
  },
  {
   "cell_type": "code",
   "execution_count": 44,
   "metadata": {
    "execution": {
     "iopub.status.busy": "2023-02-23T17:56:08.648226Z",
     "iopub.status.idle": "2023-02-23T17:56:08.648893Z"
    }
   },
   "outputs": [],
   "source": [
    "def decode_sequence(input_seq):\n",
    "    # Encode the input as state vectors.\n",
    "    states_value = encoder_model.predict(input_seq)\n",
    "    # Generate empty target sequence of length 1.\n",
    "    target_seq = np.zeros((1,1))\n",
    "    # Populate the first character of target sequence with the start character.\n",
    "    target_seq[0, 0] = target_token_index['START_']\n",
    "\n",
    "    # Sampling loop for a batch of sequences\n",
    "    # (to simplify, here we assume a batch of size 1).\n",
    "    stop_condition = False\n",
    "    decoded_sentence = ''\n",
    "    while not stop_condition:\n",
    "        output_tokens, h, c = decoder_model.predict([target_seq] + states_value)\n",
    "\n",
    "        # Sample a token\n",
    "        sampled_token_index = np.argmax(output_tokens[0, -1, :])\n",
    "        sampled_char = reverse_target_char_index[sampled_token_index]\n",
    "        decoded_sentence += ' '+sampled_char\n",
    "\n",
    "        # Exit condition: either hit max length\n",
    "        # or find stop character.\n",
    "        if (sampled_char == '_END' or\n",
    "           len(decoded_sentence) > 50):\n",
    "            stop_condition = True\n",
    "\n",
    "        # Update the target sequence (of length 1).\n",
    "        target_seq = np.zeros((1,1))\n",
    "        target_seq[0, 0] = sampled_token_index\n",
    "\n",
    "        # Update states\n",
    "        states_value = [h, c]\n",
    "\n",
    "    return decoded_sentence"
   ]
  },
  {
   "cell_type": "code",
   "execution_count": 45,
   "metadata": {
    "execution": {
     "iopub.status.busy": "2023-02-23T17:56:08.649709Z",
     "iopub.status.idle": "2023-02-23T17:56:08.650324Z"
    }
   },
   "outputs": [],
   "source": [
    "train_gen = generate_batch(X_train, y_train, batch_size = 1)\n",
    "k=-1\n"
   ]
  },
  {
   "cell_type": "code",
   "execution_count": 46,
   "metadata": {
    "execution": {
     "iopub.status.busy": "2023-02-23T17:56:08.651097Z",
     "iopub.status.idle": "2023-02-23T17:56:08.651709Z"
    }
   },
   "outputs": [
    {
     "data": {
      "text/plain": [
       "<generator object generate_batch at 0x7f0c72dbed00>"
      ]
     },
     "execution_count": 46,
     "metadata": {},
     "output_type": "execute_result"
    }
   ],
   "source": [
    "train_gen"
   ]
  },
  {
   "cell_type": "code",
   "execution_count": 47,
   "metadata": {
    "execution": {
     "iopub.status.busy": "2023-02-23T17:56:08.652449Z",
     "iopub.status.idle": "2023-02-23T17:56:08.653092Z"
    }
   },
   "outputs": [
    {
     "name": "stdout",
     "output_type": "stream",
     "text": [
      "Input English sentence: then we destroyed the others\n",
      "Actual Urdu Translation:  پھر ہم نے اوروں کو ہلاک کردیا \n",
      "Predicted URdu Translation:  پھر ہم نے دوسروں کو ہلاک کر دیا \n"
     ]
    }
   ],
   "source": [
    "k+=1\n",
    "(input_seq, actual_output), _ = next(train_gen)\n",
    "decoded_sentence = decode_sequence(input_seq)\n",
    "print('Input English sentence:', X_train[k:k+1].values[0])\n",
    "print('Actual Urdu Translation:', y_train[k:k+1].values[0][6:-4])\n",
    "print('Predicted URdu Translation:', decoded_sentence[:-4])"
   ]
  },
  {
   "cell_type": "code",
   "execution_count": 48,
   "metadata": {
    "execution": {
     "iopub.status.busy": "2023-02-23T17:56:08.653860Z",
     "iopub.status.idle": "2023-02-23T17:56:08.654448Z"
    }
   },
   "outputs": [
    {
     "name": "stdout",
     "output_type": "stream",
     "text": [
      "Input English sentence: you are not insane by the munificence of your lord\n",
      "Actual Urdu Translation:  آپ الله کے فضل سے دیوانہ نہیں ہیں \n",
      "Predicted Urdu Translation:  آپ کے رب کی عبادت کرتے ہیں اس پر کہ تمہیں اس کا\n"
     ]
    }
   ],
   "source": [
    "k+=1\n",
    "(input_seq, actual_output), _ = next(train_gen)\n",
    "decoded_sentence = decode_sequence(input_seq)\n",
    "print('Input English sentence:', X_train[k:k+1].values[0])\n",
    "print('Actual Urdu Translation:', y_train[k:k+1].values[0][6:-4])\n",
    "print('Predicted Urdu Translation:', decoded_sentence[:-4])"
   ]
  },
  {
   "cell_type": "code",
   "execution_count": 49,
   "metadata": {
    "execution": {
     "iopub.status.busy": "2023-02-23T17:56:08.655228Z",
     "iopub.status.idle": "2023-02-23T17:56:08.655888Z"
    }
   },
   "outputs": [
    {
     "name": "stdout",
     "output_type": "stream",
     "text": [
      "Input English sentence: the lord of moses and aaron”\n",
      "Actual Urdu Translation:  یعنی موسیٰ علیہ السلام اور ہارون کے رب پر \n",
      "Predicted Urdu Translation:  یعنی موسیٰ اور ہارون کے پروردگار پر اس کے رب پ\n"
     ]
    }
   ],
   "source": [
    "k+=1\n",
    "(input_seq, actual_output), _ = next(train_gen)\n",
    "decoded_sentence = decode_sequence(input_seq)\n",
    "print('Input English sentence:', X_train[k:k+1].values[0])\n",
    "print('Actual Urdu Translation:', y_train[k:k+1].values[0][6:-4])\n",
    "print('Predicted Urdu Translation:', decoded_sentence[:-4])"
   ]
  },
  {
   "cell_type": "code",
   "execution_count": 50,
   "metadata": {
    "execution": {
     "iopub.status.busy": "2023-02-23T17:56:08.656686Z",
     "iopub.status.idle": "2023-02-23T17:56:08.657385Z"
    }
   },
   "outputs": [
    {
     "name": "stdout",
     "output_type": "stream",
     "text": [
      "Input English sentence: it may be thou frettest thy soul with grief that they do not become believers\n",
      "Actual Urdu Translation:  اے محمدؐ، شاید تم اس غم میں اپنی جان کھو دو گے کہ یہ لوگ ایمان نہیں لاتے \n",
      "Predicted Urdu Translation:  اے ایمان والو تم کیا بات کیوں نہیں حاصل کرتے اگ\n"
     ]
    }
   ],
   "source": [
    "k+=1\n",
    "(input_seq, actual_output), _ = next(train_gen)\n",
    "decoded_sentence = decode_sequence(input_seq)\n",
    "print('Input English sentence:', X_train[k:k+1].values[0])\n",
    "print('Actual Urdu Translation:', y_train[k:k+1].values[0][6:-4])\n",
    "print('Predicted Urdu Translation:', decoded_sentence[:-4])"
   ]
  },
  {
   "cell_type": "code",
   "execution_count": 51,
   "metadata": {
    "execution": {
     "iopub.status.busy": "2023-02-23T17:56:08.658199Z",
     "iopub.status.idle": "2023-02-23T17:56:08.658857Z"
    }
   },
   "outputs": [
    {
     "name": "stdout",
     "output_type": "stream",
     "text": [
      "Input English sentence: so we perverted you for we were perverse ourselves’\n",
      "Actual Urdu Translation:  سو ہم نے تمہیں گمراہ کر دیا بے شک ہم خود گمراہ تھے، \n",
      "Predicted Urdu Translation:  تو ہم نے تمہیں گمراہ کیا کہ ہم خود گمراہ تھے، \n"
     ]
    }
   ],
   "source": [
    "k+=1\n",
    "(input_seq, actual_output), _ = next(train_gen)\n",
    "decoded_sentence = decode_sequence(input_seq)\n",
    "print('Input English sentence:', X_train[k:k+1].values[0])\n",
    "print('Actual Urdu Translation:', y_train[k:k+1].values[0][6:-4])\n",
    "print('Predicted Urdu Translation:', decoded_sentence[:-4])"
   ]
  },
  {
   "cell_type": "code",
   "execution_count": 52,
   "metadata": {},
   "outputs": [],
   "source": []
  }
 ],
 "metadata": {
  "kernelspec": {
   "display_name": "Python 3",
   "language": "python",
   "name": "python3"
  },
  "language_info": {
   "codemirror_mode": {
    "name": "ipython",
    "version": 3
   },
   "file_extension": ".py",
   "mimetype": "text/x-python",
   "name": "python",
   "nbconvert_exporter": "python",
   "pygments_lexer": "ipython3",
   "version": "3.6.4"
  }
 },
 "nbformat": 4,
 "nbformat_minor": 4
}
